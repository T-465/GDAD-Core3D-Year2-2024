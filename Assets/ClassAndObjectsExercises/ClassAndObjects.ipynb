{
 "cells": [
  {
   "cell_type": "markdown",
   "metadata": {},
   "source": [
    "\n",
    "\n",
    "---\n",
    "\n",
    "# Introduction to Classes and Objects in C#\n",
    "\n",
    "## Example 1 - Class and Objects in C#\n",
    "\n",
    "A **class** is a blueprint for creating objects, defining their properties and behaviours. An **object** is an instance of a class, where you can set values to the properties and call methods.\n",
    "\n",
    "### Example Breakdown:\n",
    "- **Class Definition**: The `Animal` class defines three properties (`Name`, `Species`, `Age`) and one method (`MakeSound()`), which prints a message using the property values.\n",
    "- **Creating Objects**: We create two `Animal` objects (`cat` and `dog`), each with different properties.\n",
    "- **Calling Methods**: Using `cat.MakeSound()` and `dog.MakeSound()` prints the respective messages.\n",
    "\n",
    "Use the following code to see how classes and objects work together:\n",
    "\n",
    "\n",
    "```csharp\n",
    "// Define the Animal class\n",
    "public class Animal\n",
    "{\n",
    "    // Properties\n",
    "    public string Name { get; set; }\n",
    "    public string Species { get; set; }\n",
    "    public int Age { get; set; }\n",
    "\n",
    "    // Method\n",
    "    public void MakeSound()\n",
    "    {\n",
    "        Console.WriteLine($\"{Name} the {Species} makes a sound!\");\n",
    "    }\n",
    "}\n",
    "\n",
    "// Create Animal objects\n",
    "Animal cat = new Animal { Name = \"Whiskers\", Species = \"Cat\", Age = 3 };\n",
    "Animal dog = new Animal { Name = \"Buddy\", Species = \"Dog\", Age = 5 };\n",
    "\n",
    "// Call methods on Animal objects\n",
    "cat.MakeSound();\n",
    "dog.MakeSound();\n",
    "```\n",
    "\n",
    "---\n",
    "### Exercise 1 - Type the code in the code notebook below\n",
    "---\n"
   ]
  },
  {
   "cell_type": "code",
   "execution_count": 3,
   "metadata": {
    "dotnet_interactive": {
     "language": "csharp"
    },
    "polyglot_notebook": {
     "kernelName": "csharp"
    }
   },
   "outputs": [],
   "source": [
    "\n",
    "// CLASS ------------------------\n",
    "// Define the Animal class\n",
    "\n",
    "\n",
    "// OBJECTS ------------------------\n",
    "// Create Animal objects\n",
    "\n"
   ]
  },
  {
   "cell_type": "markdown",
   "metadata": {},
   "source": [
    "\n",
    "\n",
    "---\n",
    "\n",
    "## Example 2 - Class with Constructor in C#\n",
    "\n",
    "A **constructor** is a special method used to initialize objects with specific values when they are created. In this example:\n",
    "- **Class Definition**: The `Animal` class includes a constructor that accepts `name`, `species`, and `age` parameters to set the property values directly when the object is created.\n",
    "- **Creating Objects**: We use the constructor to create `Animal` objects (`bird` and `elephant`) with defined properties.\n",
    "- **Calling Methods**: Using `Describe()` and `MakeSound()` prints details and sounds of the animals.\n",
    "\n",
    "Use the following code to see how constructors work:\n",
    "\n",
    "```csharp\n",
    "// Define the Animal class with a constructor\n",
    "public class Animal\n",
    "{\n",
    "    // Properties\n",
    "    public string Name { get; set; }\n",
    "    public string Species { get; set; }\n",
    "    public int Age { get; set; }\n",
    "\n",
    "    // Constructor\n",
    "    public Animal(string name, string species, int age)\n",
    "    {\n",
    "        Name = name;\n",
    "        Species = species;\n",
    "        Age = age;\n",
    "    }\n",
    "\n",
    "    // Method\n",
    "    public void MakeSound()\n",
    "    {\n",
    "        Console.WriteLine($\"{Name} the {Species} makes a sound!\");\n",
    "    }\n",
    "\n",
    "    // Method to describe the animal\n",
    "    public void Describe()\n",
    "    {\n",
    "        Console.WriteLine($\"{Name} is a {Age} year old {Species}.\");\n",
    "    }\n",
    "}\n",
    "\n",
    "// Create Animal objects using the constructor\n",
    "Animal bird = new Animal(\"Tweety\", \"Bird\", 2);\n",
    "Animal elephant = new Animal(\"Dumbo\", \"Elephant\", 10);\n",
    "\n",
    "// Call methods on Animal objects\n",
    "bird.Describe();\n",
    "bird.MakeSound();\n",
    "\n",
    "elephant.Describe();\n",
    "elephant.MakeSound();\n",
    "```\n",
    "\n",
    "---\n",
    "### Exercise 2 - Type the code in the code notebook below\n",
    "---"
   ]
  },
  {
   "cell_type": "code",
   "execution_count": 4,
   "metadata": {
    "dotnet_interactive": {
     "language": "csharp"
    },
    "polyglot_notebook": {
     "kernelName": "csharp"
    }
   },
   "outputs": [],
   "source": [
    "\n",
    "// CLASS WITH CONSTRUCTOR ------------------------\n",
    "// Define the Animal class with a constructor\n",
    "\n",
    "\n",
    "\n",
    "// OBJECTS WITH CONSTRUCTOR ------------------------\n",
    "// Create Animal objects using the constructor\n"
   ]
  },
  {
   "cell_type": "markdown",
   "metadata": {},
   "source": [
    "\n",
    "---\n",
    "\n",
    "## Example 3 - Class with Inheritance in C#\n",
    "\n",
    "**Inheritance** allows a class to inherit properties and methods from another class. In this example:\n",
    "- **Base Class**: The `Animal` class defines properties (`Name`, `Species`, `Age`) and methods like `MakeSound()` and `Describe()`.\n",
    "- **Derived Class**: The `Dog` class inherits from `Animal`, meaning it has access to the `Animal` class properties and methods. The `Dog` class also introduces a new method `Bark()` and overrides the `MakeSound()` method.\n",
    "- **Method Overriding**: `Dog` uses its own `MakeSound()` implementation that calls `Bark()` instead of the base class method.\n",
    "\n",
    "Use the following code to see how inheritance works:\n",
    "\n",
    "```csharp\n",
    "// Define the Animal class with a virtual MakeSound method\n",
    "public class Animal\n",
    "{\n",
    "    public string Name { get; set; }\n",
    "    public string Species { get; set; }\n",
    "    public int Age { get; set; }\n",
    "\n",
    "    public Animal(string name, string species, int age)\n",
    "    {\n",
    "        Name = name;\n",
    "        Species = species;\n",
    "        Age = age;\n",
    "    }\n",
    "\n",
    "    public virtual void MakeSound()\n",
    "    {\n",
    "        Console.WriteLine($\"{Name} the {Species} makes a sound!\");\n",
    "    }\n",
    "\n",
    "    public void Describe()\n",
    "    {\n",
    "        Console.WriteLine($\"{Name} is a {Age} year old {Species}.\");\n",
    "    }\n",
    "}\n",
    "\n",
    "// Define the Dog class that inherits from Animal\n",
    "public class Dog : Animal\n",
    "{\n",
    "    public Dog(string name, int age) : base(name, \"Dog\", age) { }\n",
    "\n",
    "    // New method for Dog\n",
    "    public void Bark()\n",
    "    {\n",
    "        Console.WriteLine($\"{Name} barks!\");\n",
    "    }\n",
    "\n",
    "    // Override the MakeSound method\n",
    "    public override void MakeSound()\n",
    "    {\n",
    "        Bark();\n",
    "    }\n",
    "}\n",
    "\n",
    "// Create a Dog object\n",
    "Dog labrador = new Dog(\"Buddy\", 4);\n",
    "\n",
    "// Call methods on Dog object\n",
    "labrador.Describe();\n",
    "labrador.MakeSound();\n",
    "```\n",
    "\n",
    "---\n",
    "### Exercise 3 - Type the code in the code notebook below\n",
    "---"
   ]
  },
  {
   "cell_type": "code",
   "execution_count": null,
   "metadata": {
    "dotnet_interactive": {
     "language": "csharp"
    },
    "polyglot_notebook": {
     "kernelName": "csharp"
    },
    "vscode": {
     "languageId": "csharp"
    }
   },
   "outputs": [],
   "source": [
    "// CLASS WITH INHERITANCE ------------------------\n",
    "// Define the Animal class with a virtual MakeSound method\n",
    "\n",
    "\n",
    "\n",
    "// OBJECTS WITH INHERITANCE ------------------------\n",
    "// Define the Dog class that inherits from Animal\n"
   ]
  },
  {
   "cell_type": "markdown",
   "metadata": {},
   "source": [
    "---\n",
    "\n",
    "### Instructions for Creating Animal Variations Using Inheritance\n",
    "\n",
    "In this exercise, you will be using **inheritance** to create variations of the `Animal` class. Inheritance allows one class to inherit properties and methods from another class, enabling code reusability and extending functionalities.\n",
    "\n",
    "1. **Create New Animal Classes**:\n",
    "   - Create new classes like `Cat`, `Bird`, or `Cow`.\n",
    "   - Make these classes **inherit** from the `Animal` class using the syntax `: Animal`.\n",
    "\n",
    "2. **Add Unique Methods**:\n",
    "   - Each new class should have a unique method that represents the sound or action of that animal.\n",
    "   - For example, `Cat` could have a `Meow()` method, and `Bird` could have a `Chirp()` method.\n",
    "\n",
    "3. **Override `MakeSound()`**:\n",
    "   - Override the `MakeSound()` method in each new class to call the unique method you created, just like the `Dog` class uses `Bark()`.\n",
    "\n",
    "4. **Create Objects and Call Methods**:\n",
    "   - Once your new classes are defined, create objects for each and call their `Describe()` and `MakeSound()` methods to see the results.\n",
    "\n",
    "**Why Inheritance?**\n",
    "- Inheritance lets your new animal classes (`Cat`, `Bird`, etc.) automatically have the same properties (`Name`, `Species`, `Age`) and methods (`Describe()`) as the `Animal` class.\n",
    "- You only need to define the new behaviour specific to each animal, like `Meow()` or `Chirp()`, while still keeping the common functionality.\n",
    "\n",
    "**Your Task**:\n",
    "Create at least two new classes that inherit from `Animal`, add unique methods for each class, override `MakeSound()`, and create their objects.\n",
    "\n",
    "Example:\n",
    "```csharp\n",
    "// Define the Cat class that inherits from Animal\n",
    "public class Cat : Animal\n",
    "{\n",
    "    public Cat(string name, int age) : base(name, \"Cat\", age) { }\n",
    "\n",
    "    // Unique method for Cat\n",
    "    public void Meow()\n",
    "    {\n",
    "        Console.WriteLine($\"{Name} meows!\");\n",
    "    }\n",
    "\n",
    "    // Override MakeSound method\n",
    "    public override void MakeSound()\n",
    "    {\n",
    "        Meow();\n",
    "    }\n",
    "}\n",
    "\n",
    "// Create a Cat object and call methods\n",
    "Cat myCat = new Cat(\"Mittens\", 2);\n",
    "myCat.Describe();  // Prints: \"Mittens is a 2 year old Cat.\"\n",
    "myCat.MakeSound(); // Prints: \"Mittens meows!\"\n",
    "```\n",
    "\n",
    "### **Exercise - Create Your Own Animal Classes Using Inheritance**\n",
    "\n",
    "- Create 2-3 new animal classes that inherit from `Animal`, add unique and overloaded methods, override `MakeSound()`, and create objects to test your variations!"
   ]
  },
  {
   "cell_type": "code",
   "execution_count": null,
   "metadata": {
    "dotnet_interactive": {
     "language": "csharp"
    },
    "polyglot_notebook": {
     "kernelName": "csharp"
    },
    "vscode": {
     "languageId": "csharp"
    }
   },
   "outputs": [],
   "source": [
    "\n",
    "// Define the Frog class that inherits from Animal - Create a frog call Jumpy that goes 'ribbit'\n",
    "\n",
    "\n",
    "// Create a Frog object and call methods\n",
    "\n",
    "\n"
   ]
  },
  {
   "cell_type": "code",
   "execution_count": null,
   "metadata": {
    "vscode": {
     "languageId": "csharp"
    }
   },
   "outputs": [],
   "source": [
    "// Create more Frog objects and call methods - Create a frog called \"Jumpy's Cousin\" that goes 'ribbit'\n"
   ]
  },
  {
   "cell_type": "markdown",
   "metadata": {},
   "source": [
    "🎉 **Congratulations, Students!** 🎉\n",
    "\n",
    "You did it! 🐸🐱🐶 You’ve successfully used **inheritance** to create your own animal classes, each with unique behaviours and sounds. This is a major milestone in understanding how object-oriented programming (OOP) works. \n",
    "\n",
    "But what can this knowledge be used for beyond animal classes? 🤔 Let’s take a quick look!\n",
    "\n",
    "### 🛠️ **Real-World Applications of Inheritance** 🛠️\n",
    "\n",
    "Inheritance is a core concept in software development and game programming, and it’s used to model relationships, create modular code, and extend functionalities. Here are some real-world scenarios where you can apply what you’ve just learned:\n",
    "\n",
    "1. **🎮 Game Development**:\n",
    "   - Imagine creating a game with different character types: `Player`, `Enemy`, and `NPC`. Each can inherit from a base class like `Character`. Then, you can give each type specific actions like `Attack()`, `Defend()`, or `Patrol()` based on their roles.\n",
    "   - For a racing game, you might have `Vehicle` as the base class and derived classes like `Car`, `Bike`, and `Truck` with unique speed and handling properties.\n",
    "\n",
    "2. **🏢 Business Applications**:\n",
    "   - In business software, you can use a base class `Employee` with properties like `Name`, `EmployeeID`, and `Salary`, and then create derived classes like `Manager`, `Developer`, and `Designer`. Each role could have unique methods like `ApproveLeave()` or `WriteCode()`.\n",
    "\n",
    "3. **🦸 Character and NPC Management**:\n",
    "   - In RPGs or simulations, you can have a `Character` base class and define derived classes for `Warrior`, `Mage`, or `Archer`, each with special abilities like `Slash()`, `CastSpell()`, or `ShootArrow()`.\n",
    "\n",
    "4. **🛒 E-Commerce Systems**:\n",
    "   - An `Item` base class could have properties like `Name`, `Price`, and `Stock`, while derived classes like `Electronics`, `Clothing`, and `Books` could add specific attributes, such as `WarrantyPeriod` or `AuthorName`.\n",
    "\n",
    "### 💡 **Why Use Inheritance?**\n",
    "- **Code Reusability**: Inheritance allows you to define common functionality once and use it in multiple places.\n",
    "- **Maintainability**: With shared code in a base class, any changes are automatically inherited by derived classes, reducing errors and maintenance effort.\n",
    "- **Extensibility**: Easily extend your code by adding new classes that inherit from existing ones without modifying the original code structure.\n",
    "\n",
    "### 🎨 **Create Your Own Adventure!**\n",
    "Want to get creative? 🖌️ How about:\n",
    "- Implementing a zoo simulator where each animal has special actions.\n",
    "- Designing a library system where books, e-books, and audiobooks are derived from a base `Book` class.\n",
    "- Building a space game where ships, stations, and planets inherit from a `SpaceObject` class and have their own unique behaviours!\n",
    "\n",
    "---\n",
    "\n",
    "The skills you’ve acquired today can be applied in countless situations, helping you design scalable and maintainable systems for games, applications, and more. So, keep exploring, keep creating, and most importantly—keep having fun with code! 🎉"
   ]
  },
  {
   "cell_type": "code",
   "execution_count": null,
   "metadata": {
    "dotnet_interactive": {
     "language": "csharp"
    },
    "polyglot_notebook": {
     "kernelName": "csharp"
    },
    "vscode": {
     "languageId": "csharp"
    }
   },
   "outputs": [],
   "source": [
    "// Cat ASCII Art in C#\n",
    "Console.WriteLine(@\"       \n",
    "       /\\_____/\\\n",
    "      /  o     o\\\n",
    "     ( ==  ^  == ) \n",
    "     )   ~~~~   ( \n",
    "    /             \\\n",
    "   /  Great Job!   \\\n",
    "  (  Keep Coding!  )\n",
    "   \\_______________/\");\n"
   ]
  }
 ],
 "metadata": {
  "kernelspec": {
   "display_name": ".NET (C#)",
   "language": "C#",
   "name": ".net-csharp"
  },
  "polyglot_notebook": {
   "kernelInfo": {
    "defaultKernelName": "csharp",
    "items": [
     {
      "aliases": [],
      "languageName": "csharp",
      "name": "csharp"
     }
    ]
   }
  }
 },
 "nbformat": 4,
 "nbformat_minor": 2
}
